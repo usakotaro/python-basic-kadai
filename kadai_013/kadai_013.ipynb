{
  "nbformat": 4,
  "nbformat_minor": 0,
  "metadata": {
    "colab": {
      "provenance": []
    },
    "kernelspec": {
      "name": "python3",
      "display_name": "Python 3"
    },
    "language_info": {
      "name": "python"
    }
  },
  "cells": [
    {
      "cell_type": "code",
      "execution_count": 7,
      "metadata": {
        "colab": {
          "base_uri": "https://localhost:8080/"
        },
        "id": "SgFIQSnM8Fiz",
        "outputId": "a09b819d-40e5-46c2-94d1-c259800d3955"
      },
      "outputs": [
        {
          "output_type": "stream",
          "name": "stdout",
          "text": [
            "1500.0円\n"
          ]
        }
      ],
      "source": [
        "def total_price(price):\n",
        "    tax = price * 0.1\n",
        "    total_price = price + tax\n",
        "    print(f\"{total_price}円\")\n",
        "\n",
        "total_price(1000)"
      ]
    },
    {
      "cell_type": "code",
      "source": [],
      "metadata": {
        "id": "BNpR7PmFv9ec"
      },
      "execution_count": null,
      "outputs": []
    }
  ]
}