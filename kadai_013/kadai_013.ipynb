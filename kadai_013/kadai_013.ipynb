{
  "nbformat": 4,
  "nbformat_minor": 0,
  "metadata": {
    "colab": {
      "provenance": []
    },
    "kernelspec": {
      "name": "python3",
      "display_name": "Python 3"
    },
    "language_info": {
      "name": "python"
    }
  },
  "cells": [
    {
      "cell_type": "code",
      "execution_count": 1,
      "metadata": {
        "colab": {
          "base_uri": "https://localhost:8080/"
        },
        "id": "SgFIQSnM8Fiz",
        "outputId": "24cbe6b1-fa66-45c5-a837-9e1a4e86bf76"
      },
      "outputs": [
        {
          "output_type": "stream",
          "name": "stdout",
          "text": [
            "1000円（税込 : 1100.0円）\n"
          ]
        }
      ],
      "source": [
        "def total_price(price, tax):\n",
        "    tax = price * 0.1\n",
        "    total_price = price + tax\n",
        "    print(f\"{price}円（税込 : {total_price}円）\")\n",
        "\n",
        "total_price(1000, 100)"
      ]
    }
  ]
}