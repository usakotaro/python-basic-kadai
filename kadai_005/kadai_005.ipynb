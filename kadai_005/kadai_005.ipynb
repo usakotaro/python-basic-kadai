{
  "nbformat": 4,
  "nbformat_minor": 0,
  "metadata": {
    "colab": {
      "provenance": [],
      "gpuType": "T4"
    },
    "kernelspec": {
      "name": "python3",
      "display_name": "Python 3"
    },
    "language_info": {
      "name": "python"
    }
  },
  "cells": [
    {
      "cell_type": "code",
      "source": [
        "upper_line = 10\n",
        "bottom_line = 20\n",
        "height = 5\n",
        "print(f\"{(upper_line + bottom_line)*height/2}cm²\")"
      ],
      "metadata": {
        "colab": {
          "base_uri": "https://localhost:8080/"
        },
        "id": "g2nBH0OpKHmX",
        "outputId": "f5df47e1-4bf6-421b-ca9a-05d1ca9cb44d"
      },
      "execution_count": 14,
      "outputs": [
        {
          "output_type": "stream",
          "name": "stdout",
          "text": [
            "75.0cm²\n"
          ]
        }
      ]
    }
  ]
}