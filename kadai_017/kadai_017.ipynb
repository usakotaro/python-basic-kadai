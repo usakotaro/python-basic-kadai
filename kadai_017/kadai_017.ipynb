{
  "nbformat": 4,
  "nbformat_minor": 0,
  "metadata": {
    "colab": {
      "provenance": []
    },
    "kernelspec": {
      "name": "python3",
      "display_name": "Python 3"
    },
    "language_info": {
      "name": "python"
    }
  },
  "cells": [
    {
      "cell_type": "code",
      "execution_count": 1,
      "metadata": {
        "colab": {
          "base_uri": "https://localhost:8080/"
        },
        "id": "G8WlbhRbiA4w",
        "outputId": "ceb9ad89-8965-4bd0-863b-030c3cf592e8"
      },
      "outputs": [
        {
          "output_type": "stream",
          "name": "stdout",
          "text": [
            "はなこは大人です！\n",
            "よしおは大人ではないです！！\n",
            "ナンシーは大人です！\n"
          ]
        }
      ],
      "source": [
        "ages_dict = {\"はなこ\":45,\"よしお\":19,\"ナンシー\":20}\n",
        "class Human:\n",
        "  def __init__ (self,name,age):\n",
        "    self.name = name\n",
        "    self.age = age\n",
        "\n",
        "  def check_adult(self):\n",
        "        if self.age <20:\n",
        "          print(f\"{self.name}は大人ではないです！！\")\n",
        "        else:\n",
        "          print(f\"{self.name}は大人です！\")\n",
        "\n",
        "for name,age in ages_dict.items():\n",
        "   human = Human(name, age)\n",
        "   human.check_adult()"
      ]
    },
    {
      "cell_type": "code",
      "source": [],
      "metadata": {
        "id": "eRYN2jTliKav"
      },
      "execution_count": null,
      "outputs": []
    }
  ]
}